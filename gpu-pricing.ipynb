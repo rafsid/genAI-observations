{
 "cells": [
  {
   "cell_type": "code",
   "execution_count": 4,
   "metadata": {},
   "outputs": [
    {
     "data": {
      "application/vnd.plotly.v1+json": {
       "config": {
        "plotlyServerURL": "https://plot.ly"
       },
       "data": [
        {
         "customdata": [
          [
           "Lambda"
          ],
          [
           "Lambda"
          ],
          [
           "Lambda"
          ],
          [
           "Lambda"
          ],
          [
           "Lambda"
          ],
          [
           "Lambda"
          ],
          [
           "Lambda"
          ],
          [
           "Lambda"
          ],
          [
           "Lambda"
          ],
          [
           "Lambda"
          ],
          [
           "Lambda"
          ],
          [
           "Lambda"
          ],
          [
           "Lambda"
          ],
          [
           "Lambda"
          ]
         ],
         "hovertemplate": "Provider=%{customdata[0]}<br>INR Per Hour per GPU RAM=%{marker.size}<extra></extra>",
         "legendgroup": "Lambda",
         "marker": {
          "color": "#FF0000",
          "size": [
           2.66,
           2.74,
           2.74,
           1.42,
           2.65,
           1.77,
           2.74,
           1.42,
           2.74,
           1.42,
           2.74,
           1.9,
           3.18,
           2.92
          ],
          "sizemode": "area",
          "sizeref": 0.07315,
          "symbol": "circle"
         },
         "mode": "markers",
         "name": "Lambda",
         "orientation": "v",
         "showlegend": true,
         "type": "scatter",
         "x": [
          -0.4546853395098819,
          0.8277881967338969,
          1.1456726978296108,
          1.7245851313767329,
          2.6754279331135122,
          3.998908809624456,
          0.7814357340264665,
          2.215608282929978,
          0.5172772581132801,
          1.8714607969548482,
          1.0023679904373939,
          0.5340053009128749,
          3.4182641101981095,
          5.099305492097721
         ],
         "xaxis": "x",
         "y": [
          2.66,
          2.74,
          2.74,
          1.42,
          2.65,
          1.77,
          2.74,
          1.42,
          2.74,
          1.42,
          2.74,
          1.9,
          3.18,
          2.92
         ],
         "yaxis": "y"
        },
        {
         "customdata": [
          [
           "OLA"
          ],
          [
           "OLA"
          ],
          [
           "OLA"
          ],
          [
           "OLA"
          ],
          [
           "OLA"
          ],
          [
           "OLA"
          ],
          [
           "OLA"
          ],
          [
           "OLA"
          ],
          [
           "OLA"
          ],
          [
           "OLA"
          ],
          [
           "OLA"
          ],
          [
           "OLA"
          ],
          [
           "OLA"
          ],
          [
           "OLA"
          ],
          [
           "OLA"
          ],
          [
           "OLA"
          ],
          [
           "OLA"
          ],
          [
           "OLA"
          ],
          [
           "OLA"
          ],
          [
           "OLA"
          ],
          [
           "OLA"
          ]
         ],
         "hovertemplate": "Provider=%{customdata[0]}<br>INR Per Hour per GPU RAM=%{marker.size}<extra></extra>",
         "legendgroup": "OLA",
         "marker": {
          "color": "#000000",
          "size": [
           2.63,
           2.63,
           1.97,
           2.63,
           2.81,
           1.88,
           6.56,
           13.13,
           3.28,
           6.56,
           0.94,
           3.63,
           3.63,
           3.63,
           7.75,
           5.19,
           18.13,
           11.15,
           11.15,
           11.15,
           2.56
          ],
          "sizemode": "area",
          "sizeref": 0.07315,
          "symbol": "circle"
         },
         "mode": "markers",
         "name": "OLA",
         "orientation": "v",
         "showlegend": true,
         "type": "scatter",
         "x": [
          1.463084261216399,
          1.3859133242772284,
          0.9673180277130893,
          0.9070778174975012,
          0.8992835941757634,
          0.9262039322260909,
          1.0850187869697678,
          0.6032632747637865,
          1.2136210481793133,
          1.3279085852287444,
          1.1897165838268182,
          2.709013052455812,
          3.4267999323921083,
          3.2253702643148974,
          2.5543181982202814,
          2.930919998062847,
          3.200492871302443,
          3.337923701182458,
          3.2799058076770367,
          3.140540677668503,
          3.1463668101252082
         ],
         "xaxis": "x",
         "y": [
          2.63,
          2.63,
          1.97,
          2.63,
          2.81,
          1.88,
          6.56,
          13.13,
          3.28,
          6.56,
          0.94,
          3.63,
          3.63,
          3.63,
          7.75,
          5.19,
          18.13,
          11.15,
          11.15,
          11.15,
          2.56
         ],
         "yaxis": "y"
        },
        {
         "customdata": [
          [
           "AWS"
          ],
          [
           "AWS"
          ],
          [
           "AWS"
          ],
          [
           "AWS"
          ],
          [
           "AWS"
          ],
          [
           "AWS"
          ],
          [
           "AWS"
          ],
          [
           "AWS"
          ],
          [
           "AWS"
          ],
          [
           "AWS"
          ],
          [
           "AWS"
          ],
          [
           "AWS"
          ]
         ],
         "hovertemplate": "Provider=%{customdata[0]}<br>INR Per Hour per GPU RAM=%{marker.size}<extra></extra>",
         "legendgroup": "AWS",
         "marker": {
          "color": "#FFC000",
          "size": [
           1.15,
           1.44,
           1.15,
           1.15,
           2.01,
           1.73,
           1.45,
           2,
           1.6,
           1.45,
           1.73,
           2.79
          ],
          "sizemode": "area",
          "sizeref": 0.07315,
          "symbol": "circle"
         },
         "mode": "markers",
         "name": "AWS",
         "orientation": "v",
         "showlegend": true,
         "type": "scatter",
         "x": [
          5.539384445456211,
          5.775468064715101,
          6.326959917049192,
          6.345080815041634,
          6.462453916136768,
          5.683462469471868,
          6.13355132659164,
          5.835375477943001,
          5.948934160185077,
          5.804932210078867,
          5.751145074129903,
          6.16830615209629
         ],
         "xaxis": "x",
         "y": [
          1.15,
          1.44,
          1.15,
          1.15,
          2.01,
          1.73,
          1.45,
          2,
          1.6,
          1.45,
          1.73,
          2.79
         ],
         "yaxis": "y"
        },
        {
         "customdata": [
          [
           "Azure"
          ],
          [
           "Azure"
          ],
          [
           "Azure"
          ],
          [
           "Azure"
          ],
          [
           "Azure"
          ],
          [
           "Azure"
          ],
          [
           "Azure"
          ],
          [
           "Azure"
          ],
          [
           "Azure"
          ],
          [
           "Azure"
          ],
          [
           "Azure"
          ],
          [
           "Azure"
          ],
          [
           "Azure"
          ],
          [
           "Azure"
          ],
          [
           "Azure"
          ],
          [
           "Azure"
          ],
          [
           "Azure"
          ],
          [
           "Azure"
          ],
          [
           "Azure"
          ],
          [
           "Azure"
          ],
          [
           "Azure"
          ],
          [
           "Azure"
          ],
          [
           "Azure"
          ],
          [
           "Azure"
          ],
          [
           "Azure"
          ],
          [
           "Azure"
          ],
          [
           "Azure"
          ],
          [
           "Azure"
          ]
         ],
         "hovertemplate": "Provider=%{customdata[0]}<br>INR Per Hour per GPU RAM=%{marker.size}<extra></extra>",
         "legendgroup": "Azure",
         "marker": {
          "color": "#0000FF",
          "size": [
           6.38,
           11,
           16.22,
           1.6,
           6.38,
           7.01,
           12.1,
           17.83,
           11,
           16.24,
           2.79,
           6.38,
           1.45,
           11,
           16.26,
           2,
           21.99,
           24.19,
           21.99,
           29.26,
           22,
           28.95,
           6.06,
           3.03,
           6.06,
           3.03,
           3.03,
           6.06
          ],
          "sizemode": "area",
          "sizeref": 0.07315,
          "symbol": "circle"
         },
         "mode": "markers",
         "name": "Azure",
         "orientation": "v",
         "showlegend": true,
         "type": "scatter",
         "x": [
          6.926325715473921,
          8.494578220128565,
          9.01906591286041,
          9.908597138989323,
          6.9994276449533235,
          7.421161416196298,
          8.299525815717601,
          9.065941467427603,
          7.545286143887685,
          8.98423031109699,
          10.341310117641111,
          7.485875750644918,
          10.17651753442167,
          7.673618427343575,
          8.669478650156503,
          9.795283191775196,
          10.803925318320514,
          11.365393719043405,
          10.671644175094304,
          8.617377322238463,
          11.378625116604276,
          0.6744241562263295,
          11.969599454428272,
          11.823833293345094,
          11.708623689909045,
          12.266130711643111,
          11.547011906994571,
          11.921256937607629
         ],
         "xaxis": "x",
         "y": [
          6.38,
          11,
          16.22,
          1.6,
          6.38,
          7.01,
          12.1,
          17.83,
          11,
          16.24,
          2.79,
          6.38,
          1.45,
          11,
          16.26,
          2,
          21.99,
          24.19,
          21.99,
          29.26,
          22,
          28.95,
          6.06,
          3.03,
          6.06,
          3.03,
          3.03,
          6.06
         ],
         "yaxis": "y"
        }
       ],
       "layout": {
        "annotations": [
         {
          "font": {
           "size": 10
          },
          "showarrow": false,
          "text": "-0.4546853395098819",
          "x": -0.4546853395098819,
          "xanchor": "center",
          "y": -0.1,
          "yanchor": "top"
         },
         {
          "font": {
           "size": 10
          },
          "showarrow": false,
          "text": "0.8277881967338969",
          "x": 0.8277881967338969,
          "xanchor": "center",
          "y": -0.15000000000000002,
          "yanchor": "top"
         },
         {
          "font": {
           "size": 10
          },
          "showarrow": false,
          "text": "1.1456726978296108",
          "x": 1.1456726978296108,
          "xanchor": "center",
          "y": -0.2,
          "yanchor": "top"
         },
         {
          "font": {
           "size": 10
          },
          "showarrow": false,
          "text": "1.7245851313767329",
          "x": 1.7245851313767329,
          "xanchor": "center",
          "y": -0.25,
          "yanchor": "top"
         },
         {
          "font": {
           "size": 10
          },
          "showarrow": false,
          "text": "2.6754279331135122",
          "x": 2.6754279331135122,
          "xanchor": "center",
          "y": -0.3,
          "yanchor": "top"
         },
         {
          "font": {
           "size": 10
          },
          "showarrow": false,
          "text": "3.998908809624456",
          "x": 3.998908809624456,
          "xanchor": "center",
          "y": -0.35,
          "yanchor": "top"
         },
         {
          "font": {
           "size": 10
          },
          "showarrow": false,
          "text": "0.7814357340264665",
          "x": 0.7814357340264665,
          "xanchor": "center",
          "y": -0.39999999999999997,
          "yanchor": "top"
         },
         {
          "font": {
           "size": 10
          },
          "showarrow": false,
          "text": "2.215608282929978",
          "x": 2.215608282929978,
          "xanchor": "center",
          "y": -0.44999999999999996,
          "yanchor": "top"
         },
         {
          "font": {
           "size": 10
          },
          "showarrow": false,
          "text": "0.5172772581132801",
          "x": 0.5172772581132801,
          "xanchor": "center",
          "y": -0.49999999999999994,
          "yanchor": "top"
         },
         {
          "font": {
           "size": 10
          },
          "showarrow": false,
          "text": "1.8714607969548482",
          "x": 1.8714607969548482,
          "xanchor": "center",
          "y": -0.5499999999999999,
          "yanchor": "top"
         },
         {
          "font": {
           "size": 10
          },
          "showarrow": false,
          "text": "1.0023679904373939",
          "x": 1.0023679904373939,
          "xanchor": "center",
          "y": -0.6,
          "yanchor": "top"
         },
         {
          "font": {
           "size": 10
          },
          "showarrow": false,
          "text": "0.5340053009128749",
          "x": 0.5340053009128749,
          "xanchor": "center",
          "y": -0.65,
          "yanchor": "top"
         },
         {
          "font": {
           "size": 10
          },
          "showarrow": false,
          "text": "3.4182641101981095",
          "x": 3.4182641101981095,
          "xanchor": "center",
          "y": -0.7000000000000001,
          "yanchor": "top"
         },
         {
          "font": {
           "size": 10
          },
          "showarrow": false,
          "text": "5.099305492097721",
          "x": 5.099305492097721,
          "xanchor": "center",
          "y": -0.7500000000000001,
          "yanchor": "top"
         },
         {
          "font": {
           "size": 10
          },
          "showarrow": false,
          "text": "1.463084261216399",
          "x": 1.463084261216399,
          "xanchor": "center",
          "y": -0.8000000000000002,
          "yanchor": "top"
         },
         {
          "font": {
           "size": 10
          },
          "showarrow": false,
          "text": "1.3859133242772284",
          "x": 1.3859133242772284,
          "xanchor": "center",
          "y": -0.8500000000000002,
          "yanchor": "top"
         },
         {
          "font": {
           "size": 10
          },
          "showarrow": false,
          "text": "0.9673180277130893",
          "x": 0.9673180277130893,
          "xanchor": "center",
          "y": -0.9000000000000002,
          "yanchor": "top"
         },
         {
          "font": {
           "size": 10
          },
          "showarrow": false,
          "text": "0.9070778174975012",
          "x": 0.9070778174975012,
          "xanchor": "center",
          "y": -0.9500000000000003,
          "yanchor": "top"
         },
         {
          "font": {
           "size": 10
          },
          "showarrow": false,
          "text": "0.8992835941757634",
          "x": 0.8992835941757634,
          "xanchor": "center",
          "y": -1.0000000000000002,
          "yanchor": "top"
         },
         {
          "font": {
           "size": 10
          },
          "showarrow": false,
          "text": "0.9262039322260909",
          "x": 0.9262039322260909,
          "xanchor": "center",
          "y": -1.0500000000000003,
          "yanchor": "top"
         },
         {
          "font": {
           "size": 10
          },
          "showarrow": false,
          "text": "1.0850187869697678",
          "x": 1.0850187869697678,
          "xanchor": "center",
          "y": -1.1000000000000003,
          "yanchor": "top"
         },
         {
          "font": {
           "size": 10
          },
          "showarrow": false,
          "text": "0.6032632747637865",
          "x": 0.6032632747637865,
          "xanchor": "center",
          "y": -1.1500000000000004,
          "yanchor": "top"
         },
         {
          "font": {
           "size": 10
          },
          "showarrow": false,
          "text": "1.2136210481793133",
          "x": 1.2136210481793133,
          "xanchor": "center",
          "y": -1.2000000000000004,
          "yanchor": "top"
         },
         {
          "font": {
           "size": 10
          },
          "showarrow": false,
          "text": "1.3279085852287444",
          "x": 1.3279085852287444,
          "xanchor": "center",
          "y": -1.2500000000000004,
          "yanchor": "top"
         },
         {
          "font": {
           "size": 10
          },
          "showarrow": false,
          "text": "1.1897165838268182",
          "x": 1.1897165838268182,
          "xanchor": "center",
          "y": -1.3000000000000005,
          "yanchor": "top"
         },
         {
          "font": {
           "size": 10
          },
          "showarrow": false,
          "text": "5.539384445456211",
          "x": 5.539384445456211,
          "xanchor": "center",
          "y": -1.3500000000000005,
          "yanchor": "top"
         },
         {
          "font": {
           "size": 10
          },
          "showarrow": false,
          "text": "5.775468064715101",
          "x": 5.775468064715101,
          "xanchor": "center",
          "y": -1.4000000000000006,
          "yanchor": "top"
         },
         {
          "font": {
           "size": 10
          },
          "showarrow": false,
          "text": "6.326959917049192",
          "x": 6.326959917049192,
          "xanchor": "center",
          "y": -1.4500000000000006,
          "yanchor": "top"
         },
         {
          "font": {
           "size": 10
          },
          "showarrow": false,
          "text": "6.345080815041634",
          "x": 6.345080815041634,
          "xanchor": "center",
          "y": -1.5000000000000007,
          "yanchor": "top"
         },
         {
          "font": {
           "size": 10
          },
          "showarrow": false,
          "text": "6.462453916136768",
          "x": 6.462453916136768,
          "xanchor": "center",
          "y": -1.5500000000000007,
          "yanchor": "top"
         },
         {
          "font": {
           "size": 10
          },
          "showarrow": false,
          "text": "5.683462469471868",
          "x": 5.683462469471868,
          "xanchor": "center",
          "y": -1.6000000000000008,
          "yanchor": "top"
         },
         {
          "font": {
           "size": 10
          },
          "showarrow": false,
          "text": "6.13355132659164",
          "x": 6.13355132659164,
          "xanchor": "center",
          "y": -1.6500000000000008,
          "yanchor": "top"
         },
         {
          "font": {
           "size": 10
          },
          "showarrow": false,
          "text": "5.835375477943001",
          "x": 5.835375477943001,
          "xanchor": "center",
          "y": -1.7000000000000008,
          "yanchor": "top"
         },
         {
          "font": {
           "size": 10
          },
          "showarrow": false,
          "text": "5.948934160185077",
          "x": 5.948934160185077,
          "xanchor": "center",
          "y": -1.7500000000000009,
          "yanchor": "top"
         },
         {
          "font": {
           "size": 10
          },
          "showarrow": false,
          "text": "5.804932210078867",
          "x": 5.804932210078867,
          "xanchor": "center",
          "y": -1.800000000000001,
          "yanchor": "top"
         },
         {
          "font": {
           "size": 10
          },
          "showarrow": false,
          "text": "5.751145074129903",
          "x": 5.751145074129903,
          "xanchor": "center",
          "y": -1.850000000000001,
          "yanchor": "top"
         },
         {
          "font": {
           "size": 10
          },
          "showarrow": false,
          "text": "6.16830615209629",
          "x": 6.16830615209629,
          "xanchor": "center",
          "y": -1.900000000000001,
          "yanchor": "top"
         },
         {
          "font": {
           "size": 10
          },
          "showarrow": false,
          "text": "2.709013052455812",
          "x": 2.709013052455812,
          "xanchor": "center",
          "y": -1.950000000000001,
          "yanchor": "top"
         },
         {
          "font": {
           "size": 10
          },
          "showarrow": false,
          "text": "3.4267999323921083",
          "x": 3.4267999323921083,
          "xanchor": "center",
          "y": -2.000000000000001,
          "yanchor": "top"
         },
         {
          "font": {
           "size": 10
          },
          "showarrow": false,
          "text": "3.2253702643148974",
          "x": 3.2253702643148974,
          "xanchor": "center",
          "y": -2.0500000000000007,
          "yanchor": "top"
         },
         {
          "font": {
           "size": 10
          },
          "showarrow": false,
          "text": "2.5543181982202814",
          "x": 2.5543181982202814,
          "xanchor": "center",
          "y": -2.1000000000000005,
          "yanchor": "top"
         },
         {
          "font": {
           "size": 10
          },
          "showarrow": false,
          "text": "2.930919998062847",
          "x": 2.930919998062847,
          "xanchor": "center",
          "y": -2.1500000000000004,
          "yanchor": "top"
         },
         {
          "font": {
           "size": 10
          },
          "showarrow": false,
          "text": "3.200492871302443",
          "x": 3.200492871302443,
          "xanchor": "center",
          "y": -2.2,
          "yanchor": "top"
         },
         {
          "font": {
           "size": 10
          },
          "showarrow": false,
          "text": "3.337923701182458",
          "x": 3.337923701182458,
          "xanchor": "center",
          "y": -2.25,
          "yanchor": "top"
         },
         {
          "font": {
           "size": 10
          },
          "showarrow": false,
          "text": "3.2799058076770367",
          "x": 3.2799058076770367,
          "xanchor": "center",
          "y": -2.3,
          "yanchor": "top"
         },
         {
          "font": {
           "size": 10
          },
          "showarrow": false,
          "text": "3.140540677668503",
          "x": 3.140540677668503,
          "xanchor": "center",
          "y": -2.3499999999999996,
          "yanchor": "top"
         },
         {
          "font": {
           "size": 10
          },
          "showarrow": false,
          "text": "3.1463668101252082",
          "x": 3.1463668101252082,
          "xanchor": "center",
          "y": -2.3999999999999995,
          "yanchor": "top"
         },
         {
          "font": {
           "size": 10
          },
          "showarrow": false,
          "text": "6.926325715473921",
          "x": 6.926325715473921,
          "xanchor": "center",
          "y": -2.4499999999999993,
          "yanchor": "top"
         },
         {
          "font": {
           "size": 10
          },
          "showarrow": false,
          "text": "8.494578220128565",
          "x": 8.494578220128565,
          "xanchor": "center",
          "y": -2.499999999999999,
          "yanchor": "top"
         },
         {
          "font": {
           "size": 10
          },
          "showarrow": false,
          "text": "9.01906591286041",
          "x": 9.01906591286041,
          "xanchor": "center",
          "y": -2.549999999999999,
          "yanchor": "top"
         },
         {
          "font": {
           "size": 10
          },
          "showarrow": false,
          "text": "9.908597138989323",
          "x": 9.908597138989323,
          "xanchor": "center",
          "y": -2.5999999999999988,
          "yanchor": "top"
         },
         {
          "font": {
           "size": 10
          },
          "showarrow": false,
          "text": "6.9994276449533235",
          "x": 6.9994276449533235,
          "xanchor": "center",
          "y": -2.6499999999999986,
          "yanchor": "top"
         },
         {
          "font": {
           "size": 10
          },
          "showarrow": false,
          "text": "7.421161416196298",
          "x": 7.421161416196298,
          "xanchor": "center",
          "y": -2.6999999999999984,
          "yanchor": "top"
         },
         {
          "font": {
           "size": 10
          },
          "showarrow": false,
          "text": "8.299525815717601",
          "x": 8.299525815717601,
          "xanchor": "center",
          "y": -2.7499999999999982,
          "yanchor": "top"
         },
         {
          "font": {
           "size": 10
          },
          "showarrow": false,
          "text": "9.065941467427603",
          "x": 9.065941467427603,
          "xanchor": "center",
          "y": -2.799999999999998,
          "yanchor": "top"
         },
         {
          "font": {
           "size": 10
          },
          "showarrow": false,
          "text": "7.545286143887685",
          "x": 7.545286143887685,
          "xanchor": "center",
          "y": -2.849999999999998,
          "yanchor": "top"
         },
         {
          "font": {
           "size": 10
          },
          "showarrow": false,
          "text": "8.98423031109699",
          "x": 8.98423031109699,
          "xanchor": "center",
          "y": -2.8999999999999977,
          "yanchor": "top"
         },
         {
          "font": {
           "size": 10
          },
          "showarrow": false,
          "text": "10.341310117641111",
          "x": 10.341310117641111,
          "xanchor": "center",
          "y": -2.9499999999999975,
          "yanchor": "top"
         },
         {
          "font": {
           "size": 10
          },
          "showarrow": false,
          "text": "7.485875750644918",
          "x": 7.485875750644918,
          "xanchor": "center",
          "y": -2.9999999999999973,
          "yanchor": "top"
         },
         {
          "font": {
           "size": 10
          },
          "showarrow": false,
          "text": "10.17651753442167",
          "x": 10.17651753442167,
          "xanchor": "center",
          "y": -3.049999999999997,
          "yanchor": "top"
         },
         {
          "font": {
           "size": 10
          },
          "showarrow": false,
          "text": "7.673618427343575",
          "x": 7.673618427343575,
          "xanchor": "center",
          "y": -3.099999999999997,
          "yanchor": "top"
         },
         {
          "font": {
           "size": 10
          },
          "showarrow": false,
          "text": "8.669478650156503",
          "x": 8.669478650156503,
          "xanchor": "center",
          "y": -3.149999999999997,
          "yanchor": "top"
         },
         {
          "font": {
           "size": 10
          },
          "showarrow": false,
          "text": "9.795283191775196",
          "x": 9.795283191775196,
          "xanchor": "center",
          "y": -3.1999999999999966,
          "yanchor": "top"
         },
         {
          "font": {
           "size": 10
          },
          "showarrow": false,
          "text": "10.803925318320514",
          "x": 10.803925318320514,
          "xanchor": "center",
          "y": -3.2499999999999964,
          "yanchor": "top"
         },
         {
          "font": {
           "size": 10
          },
          "showarrow": false,
          "text": "11.365393719043405",
          "x": 11.365393719043405,
          "xanchor": "center",
          "y": -3.2999999999999963,
          "yanchor": "top"
         },
         {
          "font": {
           "size": 10
          },
          "showarrow": false,
          "text": "10.671644175094304",
          "x": 10.671644175094304,
          "xanchor": "center",
          "y": -3.349999999999996,
          "yanchor": "top"
         },
         {
          "font": {
           "size": 10
          },
          "showarrow": false,
          "text": "8.617377322238463",
          "x": 8.617377322238463,
          "xanchor": "center",
          "y": -3.399999999999996,
          "yanchor": "top"
         },
         {
          "font": {
           "size": 10
          },
          "showarrow": false,
          "text": "11.378625116604276",
          "x": 11.378625116604276,
          "xanchor": "center",
          "y": -3.4499999999999957,
          "yanchor": "top"
         },
         {
          "font": {
           "size": 10
          },
          "showarrow": false,
          "text": "0.6744241562263295",
          "x": 0.6744241562263295,
          "xanchor": "center",
          "y": -3.4999999999999956,
          "yanchor": "top"
         },
         {
          "font": {
           "size": 10
          },
          "showarrow": false,
          "text": "11.969599454428272",
          "x": 11.969599454428272,
          "xanchor": "center",
          "y": -3.5499999999999954,
          "yanchor": "top"
         },
         {
          "font": {
           "size": 10
          },
          "showarrow": false,
          "text": "11.823833293345094",
          "x": 11.823833293345094,
          "xanchor": "center",
          "y": -3.599999999999995,
          "yanchor": "top"
         },
         {
          "font": {
           "size": 10
          },
          "showarrow": false,
          "text": "11.708623689909045",
          "x": 11.708623689909045,
          "xanchor": "center",
          "y": -3.649999999999995,
          "yanchor": "top"
         },
         {
          "font": {
           "size": 10
          },
          "showarrow": false,
          "text": "12.266130711643111",
          "x": 12.266130711643111,
          "xanchor": "center",
          "y": -3.699999999999995,
          "yanchor": "top"
         },
         {
          "font": {
           "size": 10
          },
          "showarrow": false,
          "text": "11.547011906994571",
          "x": 11.547011906994571,
          "xanchor": "center",
          "y": -3.7499999999999947,
          "yanchor": "top"
         },
         {
          "font": {
           "size": 10
          },
          "showarrow": false,
          "text": "11.921256937607629",
          "x": 11.921256937607629,
          "xanchor": "center",
          "y": -3.7999999999999945,
          "yanchor": "top"
         },
         {
          "font": {
           "size": 10
          },
          "showarrow": false,
          "text": "-0.9402126199666136",
          "x": -0.9402126199666136,
          "xanchor": "center",
          "y": -3.8499999999999943,
          "yanchor": "top"
         },
         {
          "font": {
           "size": 10
          },
          "showarrow": false,
          "text": "-0.8527241997735773",
          "x": -0.8527241997735773,
          "xanchor": "center",
          "y": -3.899999999999994,
          "yanchor": "top"
         },
         {
          "font": {
           "size": 10
          },
          "showarrow": false,
          "text": "-0.9153196887394173",
          "x": -0.9153196887394173,
          "xanchor": "center",
          "y": -3.949999999999994,
          "yanchor": "top"
         },
         {
          "font": {
           "size": 10
          },
          "showarrow": false,
          "text": "-0.6595569803252932",
          "x": -0.6595569803252932,
          "xanchor": "center",
          "y": -3.999999999999994,
          "yanchor": "top"
         },
         {
          "font": {
           "size": 10
          },
          "showarrow": false,
          "text": "-0.5677301281930348",
          "x": -0.5677301281930348,
          "xanchor": "center",
          "y": -4.049999999999994,
          "yanchor": "top"
         },
         {
          "font": {
           "size": 10
          },
          "showarrow": false,
          "text": "-1.3191558498440048",
          "x": -1.3191558498440048,
          "xanchor": "center",
          "y": -4.099999999999993,
          "yanchor": "top"
         },
         {
          "font": {
           "size": 10
          },
          "showarrow": false,
          "text": "-0.6586456146923804",
          "x": -0.6586456146923804,
          "xanchor": "center",
          "y": -4.149999999999993,
          "yanchor": "top"
         },
         {
          "font": {
           "size": 10
          },
          "showarrow": false,
          "text": "-1.4547311965873968",
          "x": -1.4547311965873968,
          "xanchor": "center",
          "y": -4.199999999999993,
          "yanchor": "top"
         },
         {
          "font": {
           "size": 10
          },
          "showarrow": false,
          "text": "-1.3180809121643922",
          "x": -1.3180809121643922,
          "xanchor": "center",
          "y": -4.249999999999993,
          "yanchor": "top"
         },
         {
          "font": {
           "size": 10
          },
          "showarrow": false,
          "text": "-0.685662158086426",
          "x": -0.685662158086426,
          "xanchor": "center",
          "y": -4.299999999999993,
          "yanchor": "top"
         },
         {
          "font": {
           "size": 10
          },
          "showarrow": false,
          "text": "-1.4530823225067722",
          "x": -1.4530823225067722,
          "xanchor": "center",
          "y": -4.3499999999999925,
          "yanchor": "top"
         }
        ],
        "legend": {
         "itemsizing": "constant",
         "title": {
          "text": "Provider"
         },
         "tracegroupgap": 0
        },
        "template": {
         "data": {
          "bar": [
           {
            "error_x": {
             "color": "#2a3f5f"
            },
            "error_y": {
             "color": "#2a3f5f"
            },
            "marker": {
             "line": {
              "color": "#E5ECF6",
              "width": 0.5
             },
             "pattern": {
              "fillmode": "overlay",
              "size": 10,
              "solidity": 0.2
             }
            },
            "type": "bar"
           }
          ],
          "barpolar": [
           {
            "marker": {
             "line": {
              "color": "#E5ECF6",
              "width": 0.5
             },
             "pattern": {
              "fillmode": "overlay",
              "size": 10,
              "solidity": 0.2
             }
            },
            "type": "barpolar"
           }
          ],
          "carpet": [
           {
            "aaxis": {
             "endlinecolor": "#2a3f5f",
             "gridcolor": "white",
             "linecolor": "white",
             "minorgridcolor": "white",
             "startlinecolor": "#2a3f5f"
            },
            "baxis": {
             "endlinecolor": "#2a3f5f",
             "gridcolor": "white",
             "linecolor": "white",
             "minorgridcolor": "white",
             "startlinecolor": "#2a3f5f"
            },
            "type": "carpet"
           }
          ],
          "choropleth": [
           {
            "colorbar": {
             "outlinewidth": 0,
             "ticks": ""
            },
            "type": "choropleth"
           }
          ],
          "contour": [
           {
            "colorbar": {
             "outlinewidth": 0,
             "ticks": ""
            },
            "colorscale": [
             [
              0,
              "#0d0887"
             ],
             [
              0.1111111111111111,
              "#46039f"
             ],
             [
              0.2222222222222222,
              "#7201a8"
             ],
             [
              0.3333333333333333,
              "#9c179e"
             ],
             [
              0.4444444444444444,
              "#bd3786"
             ],
             [
              0.5555555555555556,
              "#d8576b"
             ],
             [
              0.6666666666666666,
              "#ed7953"
             ],
             [
              0.7777777777777778,
              "#fb9f3a"
             ],
             [
              0.8888888888888888,
              "#fdca26"
             ],
             [
              1,
              "#f0f921"
             ]
            ],
            "type": "contour"
           }
          ],
          "contourcarpet": [
           {
            "colorbar": {
             "outlinewidth": 0,
             "ticks": ""
            },
            "type": "contourcarpet"
           }
          ],
          "heatmap": [
           {
            "colorbar": {
             "outlinewidth": 0,
             "ticks": ""
            },
            "colorscale": [
             [
              0,
              "#0d0887"
             ],
             [
              0.1111111111111111,
              "#46039f"
             ],
             [
              0.2222222222222222,
              "#7201a8"
             ],
             [
              0.3333333333333333,
              "#9c179e"
             ],
             [
              0.4444444444444444,
              "#bd3786"
             ],
             [
              0.5555555555555556,
              "#d8576b"
             ],
             [
              0.6666666666666666,
              "#ed7953"
             ],
             [
              0.7777777777777778,
              "#fb9f3a"
             ],
             [
              0.8888888888888888,
              "#fdca26"
             ],
             [
              1,
              "#f0f921"
             ]
            ],
            "type": "heatmap"
           }
          ],
          "heatmapgl": [
           {
            "colorbar": {
             "outlinewidth": 0,
             "ticks": ""
            },
            "colorscale": [
             [
              0,
              "#0d0887"
             ],
             [
              0.1111111111111111,
              "#46039f"
             ],
             [
              0.2222222222222222,
              "#7201a8"
             ],
             [
              0.3333333333333333,
              "#9c179e"
             ],
             [
              0.4444444444444444,
              "#bd3786"
             ],
             [
              0.5555555555555556,
              "#d8576b"
             ],
             [
              0.6666666666666666,
              "#ed7953"
             ],
             [
              0.7777777777777778,
              "#fb9f3a"
             ],
             [
              0.8888888888888888,
              "#fdca26"
             ],
             [
              1,
              "#f0f921"
             ]
            ],
            "type": "heatmapgl"
           }
          ],
          "histogram": [
           {
            "marker": {
             "pattern": {
              "fillmode": "overlay",
              "size": 10,
              "solidity": 0.2
             }
            },
            "type": "histogram"
           }
          ],
          "histogram2d": [
           {
            "colorbar": {
             "outlinewidth": 0,
             "ticks": ""
            },
            "colorscale": [
             [
              0,
              "#0d0887"
             ],
             [
              0.1111111111111111,
              "#46039f"
             ],
             [
              0.2222222222222222,
              "#7201a8"
             ],
             [
              0.3333333333333333,
              "#9c179e"
             ],
             [
              0.4444444444444444,
              "#bd3786"
             ],
             [
              0.5555555555555556,
              "#d8576b"
             ],
             [
              0.6666666666666666,
              "#ed7953"
             ],
             [
              0.7777777777777778,
              "#fb9f3a"
             ],
             [
              0.8888888888888888,
              "#fdca26"
             ],
             [
              1,
              "#f0f921"
             ]
            ],
            "type": "histogram2d"
           }
          ],
          "histogram2dcontour": [
           {
            "colorbar": {
             "outlinewidth": 0,
             "ticks": ""
            },
            "colorscale": [
             [
              0,
              "#0d0887"
             ],
             [
              0.1111111111111111,
              "#46039f"
             ],
             [
              0.2222222222222222,
              "#7201a8"
             ],
             [
              0.3333333333333333,
              "#9c179e"
             ],
             [
              0.4444444444444444,
              "#bd3786"
             ],
             [
              0.5555555555555556,
              "#d8576b"
             ],
             [
              0.6666666666666666,
              "#ed7953"
             ],
             [
              0.7777777777777778,
              "#fb9f3a"
             ],
             [
              0.8888888888888888,
              "#fdca26"
             ],
             [
              1,
              "#f0f921"
             ]
            ],
            "type": "histogram2dcontour"
           }
          ],
          "mesh3d": [
           {
            "colorbar": {
             "outlinewidth": 0,
             "ticks": ""
            },
            "type": "mesh3d"
           }
          ],
          "parcoords": [
           {
            "line": {
             "colorbar": {
              "outlinewidth": 0,
              "ticks": ""
             }
            },
            "type": "parcoords"
           }
          ],
          "pie": [
           {
            "automargin": true,
            "type": "pie"
           }
          ],
          "scatter": [
           {
            "fillpattern": {
             "fillmode": "overlay",
             "size": 10,
             "solidity": 0.2
            },
            "type": "scatter"
           }
          ],
          "scatter3d": [
           {
            "line": {
             "colorbar": {
              "outlinewidth": 0,
              "ticks": ""
             }
            },
            "marker": {
             "colorbar": {
              "outlinewidth": 0,
              "ticks": ""
             }
            },
            "type": "scatter3d"
           }
          ],
          "scattercarpet": [
           {
            "marker": {
             "colorbar": {
              "outlinewidth": 0,
              "ticks": ""
             }
            },
            "type": "scattercarpet"
           }
          ],
          "scattergeo": [
           {
            "marker": {
             "colorbar": {
              "outlinewidth": 0,
              "ticks": ""
             }
            },
            "type": "scattergeo"
           }
          ],
          "scattergl": [
           {
            "marker": {
             "colorbar": {
              "outlinewidth": 0,
              "ticks": ""
             }
            },
            "type": "scattergl"
           }
          ],
          "scattermapbox": [
           {
            "marker": {
             "colorbar": {
              "outlinewidth": 0,
              "ticks": ""
             }
            },
            "type": "scattermapbox"
           }
          ],
          "scatterpolar": [
           {
            "marker": {
             "colorbar": {
              "outlinewidth": 0,
              "ticks": ""
             }
            },
            "type": "scatterpolar"
           }
          ],
          "scatterpolargl": [
           {
            "marker": {
             "colorbar": {
              "outlinewidth": 0,
              "ticks": ""
             }
            },
            "type": "scatterpolargl"
           }
          ],
          "scatterternary": [
           {
            "marker": {
             "colorbar": {
              "outlinewidth": 0,
              "ticks": ""
             }
            },
            "type": "scatterternary"
           }
          ],
          "surface": [
           {
            "colorbar": {
             "outlinewidth": 0,
             "ticks": ""
            },
            "colorscale": [
             [
              0,
              "#0d0887"
             ],
             [
              0.1111111111111111,
              "#46039f"
             ],
             [
              0.2222222222222222,
              "#7201a8"
             ],
             [
              0.3333333333333333,
              "#9c179e"
             ],
             [
              0.4444444444444444,
              "#bd3786"
             ],
             [
              0.5555555555555556,
              "#d8576b"
             ],
             [
              0.6666666666666666,
              "#ed7953"
             ],
             [
              0.7777777777777778,
              "#fb9f3a"
             ],
             [
              0.8888888888888888,
              "#fdca26"
             ],
             [
              1,
              "#f0f921"
             ]
            ],
            "type": "surface"
           }
          ],
          "table": [
           {
            "cells": {
             "fill": {
              "color": "#EBF0F8"
             },
             "line": {
              "color": "white"
             }
            },
            "header": {
             "fill": {
              "color": "#C8D4E3"
             },
             "line": {
              "color": "white"
             }
            },
            "type": "table"
           }
          ]
         },
         "layout": {
          "annotationdefaults": {
           "arrowcolor": "#2a3f5f",
           "arrowhead": 0,
           "arrowwidth": 1
          },
          "autotypenumbers": "strict",
          "coloraxis": {
           "colorbar": {
            "outlinewidth": 0,
            "ticks": ""
           }
          },
          "colorscale": {
           "diverging": [
            [
             0,
             "#8e0152"
            ],
            [
             0.1,
             "#c51b7d"
            ],
            [
             0.2,
             "#de77ae"
            ],
            [
             0.3,
             "#f1b6da"
            ],
            [
             0.4,
             "#fde0ef"
            ],
            [
             0.5,
             "#f7f7f7"
            ],
            [
             0.6,
             "#e6f5d0"
            ],
            [
             0.7,
             "#b8e186"
            ],
            [
             0.8,
             "#7fbc41"
            ],
            [
             0.9,
             "#4d9221"
            ],
            [
             1,
             "#276419"
            ]
           ],
           "sequential": [
            [
             0,
             "#0d0887"
            ],
            [
             0.1111111111111111,
             "#46039f"
            ],
            [
             0.2222222222222222,
             "#7201a8"
            ],
            [
             0.3333333333333333,
             "#9c179e"
            ],
            [
             0.4444444444444444,
             "#bd3786"
            ],
            [
             0.5555555555555556,
             "#d8576b"
            ],
            [
             0.6666666666666666,
             "#ed7953"
            ],
            [
             0.7777777777777778,
             "#fb9f3a"
            ],
            [
             0.8888888888888888,
             "#fdca26"
            ],
            [
             1,
             "#f0f921"
            ]
           ],
           "sequentialminus": [
            [
             0,
             "#0d0887"
            ],
            [
             0.1111111111111111,
             "#46039f"
            ],
            [
             0.2222222222222222,
             "#7201a8"
            ],
            [
             0.3333333333333333,
             "#9c179e"
            ],
            [
             0.4444444444444444,
             "#bd3786"
            ],
            [
             0.5555555555555556,
             "#d8576b"
            ],
            [
             0.6666666666666666,
             "#ed7953"
            ],
            [
             0.7777777777777778,
             "#fb9f3a"
            ],
            [
             0.8888888888888888,
             "#fdca26"
            ],
            [
             1,
             "#f0f921"
            ]
           ]
          },
          "colorway": [
           "#636efa",
           "#EF553B",
           "#00cc96",
           "#ab63fa",
           "#FFA15A",
           "#19d3f3",
           "#FF6692",
           "#B6E880",
           "#FF97FF",
           "#FECB52"
          ],
          "font": {
           "color": "#2a3f5f"
          },
          "geo": {
           "bgcolor": "white",
           "lakecolor": "white",
           "landcolor": "#E5ECF6",
           "showlakes": true,
           "showland": true,
           "subunitcolor": "white"
          },
          "hoverlabel": {
           "align": "left"
          },
          "hovermode": "closest",
          "mapbox": {
           "style": "light"
          },
          "paper_bgcolor": "white",
          "plot_bgcolor": "#E5ECF6",
          "polar": {
           "angularaxis": {
            "gridcolor": "white",
            "linecolor": "white",
            "ticks": ""
           },
           "bgcolor": "#E5ECF6",
           "radialaxis": {
            "gridcolor": "white",
            "linecolor": "white",
            "ticks": ""
           }
          },
          "scene": {
           "xaxis": {
            "backgroundcolor": "#E5ECF6",
            "gridcolor": "white",
            "gridwidth": 2,
            "linecolor": "white",
            "showbackground": true,
            "ticks": "",
            "zerolinecolor": "white"
           },
           "yaxis": {
            "backgroundcolor": "#E5ECF6",
            "gridcolor": "white",
            "gridwidth": 2,
            "linecolor": "white",
            "showbackground": true,
            "ticks": "",
            "zerolinecolor": "white"
           },
           "zaxis": {
            "backgroundcolor": "#E5ECF6",
            "gridcolor": "white",
            "gridwidth": 2,
            "linecolor": "white",
            "showbackground": true,
            "ticks": "",
            "zerolinecolor": "white"
           }
          },
          "shapedefaults": {
           "line": {
            "color": "#2a3f5f"
           }
          },
          "ternary": {
           "aaxis": {
            "gridcolor": "white",
            "linecolor": "white",
            "ticks": ""
           },
           "baxis": {
            "gridcolor": "white",
            "linecolor": "white",
            "ticks": ""
           },
           "bgcolor": "#E5ECF6",
           "caxis": {
            "gridcolor": "white",
            "linecolor": "white",
            "ticks": ""
           }
          },
          "title": {
           "x": 0.05
          },
          "xaxis": {
           "automargin": true,
           "gridcolor": "white",
           "linecolor": "white",
           "ticks": "",
           "title": {
            "standoff": 15
           },
           "zerolinecolor": "white",
           "zerolinewidth": 2
          },
          "yaxis": {
           "automargin": true,
           "gridcolor": "white",
           "linecolor": "white",
           "ticks": "",
           "title": {
            "standoff": 15
           },
           "zerolinecolor": "white",
           "zerolinewidth": 2
          }
         }
        },
        "title": {
         "text": "NVIDIA GPU Pricing by Provider"
        },
        "xaxis": {
         "anchor": "y",
         "domain": [
          0,
          1
         ],
         "showgrid": false,
         "title": {
          "text": "NVIDIA GPU Name"
         }
        },
        "yaxis": {
         "anchor": "x",
         "domain": [
          0,
          1
         ],
         "showgrid": false,
         "title": {
          "text": "INR Per Hour per GPU RAM"
         }
        }
       }
      }
     },
     "metadata": {},
     "output_type": "display_data"
    }
   ],
   "source": [
    "import pandas as pd\n",
    "import plotly.express as px\n",
    "import numpy as np\n",
    "\n",
    "# Load the data\n",
    "df = pd.read_csv('gpu-pricing.csv')\n",
    "df.head()\n",
    "\n",
    "# Create a numerical representation of the NVIDIA GPU Name column\n",
    "df['NVIDIA GPU Name Numeric'] = pd.factorize(df['NVIDIA GPU Name'])[0]\n",
    "\n",
    "# Increase the jitter range to reduce overlap\n",
    "df['NVIDIA GPU Name Jittered'] = df['NVIDIA GPU Name Numeric'] + np.random.uniform(-0.5, 0.5, size=len(df))\n",
    "\n",
    "# Define a custom color sequence with darker, high-contrast colors\n",
    "custom_colors = ['#ffc300', '#000000', '#ff5733', '#c70039', '#900c3f', '#581845', '#1c1c1c', '#2e2e2e']\n",
    "\n",
    "# Define specific colors for AWS, Azure, OLA, and Lambda\n",
    "color_map = {\n",
    "    'AWS': '#FFC000',  # Yellow\n",
    "    'Azure': '#0000FF',  # Blue\n",
    "    'OLA': '#000000',  # Bright Red\n",
    "    'Lambda': '#FF0000'  # Black\n",
    "}\n",
    "\n",
    "# Create interactive scatter plot with jitter to avoid overlapping bubbles\n",
    "fig = px.scatter(df, x='NVIDIA GPU Name Jittered', y='INR PER HOUR PER GPU RAM', color='Provider',\n",
    "                 size='INR PER HOUR PER GPU RAM',\n",
    "                 title='NVIDIA GPU Pricing by Provider', labels={'INR PER HOUR PER GPU RAM': 'INR Per Hour per GPU RAM'},\n",
    "                 hover_data={'Provider': True, 'NVIDIA GPU Name': True, 'INR PER HOUR PER GPU RAM': True, 'NVIDIA GPU Name Jittered': False},\n",
    "                 color_discrete_sequence=custom_colors,\n",
    "                 color_discrete_map=color_map)\n",
    "\n",
    "# Update layout to remove grid\n",
    "fig.update_layout(\n",
    "    xaxis=dict(showgrid=False),\n",
    "    yaxis=dict(showgrid=False)\n",
    ")\n",
    "\n",
    "# Add annotations for unique GPU names below the x-axis, stacked vertically\n",
    "unique_gpus = df.drop_duplicates(subset=['NVIDIA GPU Name'])\n",
    "annotations = []\n",
    "y_offset = -0.1\n",
    "for i, row in unique_gpus.iterrows():\n",
    "    annotations.append(dict(\n",
    "        x=row['NVIDIA GPU Name Jittered'],\n",
    "        y=y_offset,  # Position below the x-axis, stacked vertically\n",
    "        text=row['NVIDIA GPU Name'],\n",
    "        showarrow=False,\n",
    "        xanchor='center',\n",
    "        yanchor='top',\n",
    "        font=dict(size=10)\n",
    "    ))\n",
    "    y_offset -= 0.05  # Decrease y_offset to stack names vertically\n",
    "\n",
    "fig.update_layout(annotations=annotations)\n",
    "\n",
    "# Save the plot as an interactive HTML file\n",
    "fig.write_html('gpu_pricing.html')\n",
    "\n",
    "# Show the plot\n",
    "fig.show()"
   ]
  },
  {
   "cell_type": "code",
   "execution_count": null,
   "metadata": {},
   "outputs": [],
   "source": []
  }
 ],
 "metadata": {
  "kernelspec": {
   "display_name": "mlx",
   "language": "python",
   "name": "python3"
  },
  "language_info": {
   "codemirror_mode": {
    "name": "ipython",
    "version": 3
   },
   "file_extension": ".py",
   "mimetype": "text/x-python",
   "name": "python",
   "nbconvert_exporter": "python",
   "pygments_lexer": "ipython3",
   "version": "3.12.3"
  }
 },
 "nbformat": 4,
 "nbformat_minor": 2
}
